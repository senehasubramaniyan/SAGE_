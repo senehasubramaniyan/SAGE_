{
 "cells": [
  {
   "cell_type": "code",
   "execution_count": null,
   "metadata": {},
   "outputs": [],
   "source": [
    "import sage\n",
    "from sklearn.model_selection import train_test_split"
   ]
  },
  {
   "cell_type": "code",
   "execution_count": null,
   "metadata": {},
   "outputs": [],
   "source": [
    "df = sage.datasets.Malware()\n",
    "\n",
    "# Feature names and categorical columns (for CatBoost model)\n",
    "feature_names = df.columns.tolist()[:-1]\n",
    "categorical_cols = ['c1','c2','c3','c4','c5','c6','c7','c8','c9','c10','c11','c12','c13','c14','c15']\n",
    "categorical_inds = [feature_names.index(col) for col in categorical_cols]"
   ]
  },
  {
   "cell_type": "code",
   "execution_count": null,
   "metadata": {},
   "outputs": [],
   "source": [
    "# Split data\n",
    "train, test = train_test_split(\n",
    "    df.values, test_size=int(0.1 * len(df.values)), random_state=123)\n",
    "train, val = train_test_split(\n",
    "    train, test_size=int(0.1 * len(df.values)), random_state=123)\n",
    "Y_train = train[:, -1].copy().astype(int)\n",
    "Y_val = val[:, -1].copy().astype(int)\n",
    "Y_test = test[:, -1].copy().astype(int)\n",
    "train = train[:, :-1].copy()\n",
    "val = val[:, :-1].copy()\n",
    "test = test[:, :-1].copy()"
   ]
  },
  {
   "cell_type": "code",
   "execution_count": null,
   "metadata": {},
   "outputs": [],
   "source": [
    "pip install catboost"
   ]
  },
  {
   "cell_type": "code",
   "execution_count": null,
   "metadata": {},
   "outputs": [],
   "source": [
    "import numpy as np\n",
    "import matplotlib.pyplot as plt\n",
    "from sklearn.metrics import log_loss\n",
    "from catboost import CatBoostClassifier"
   ]
  },
  {
   "cell_type": "code",
   "execution_count": null,
   "metadata": {},
   "outputs": [],
   "source": [
    "import numpy as np\n",
    "import matplotlib.pyplot as plt\n",
    "from sklearn.metrics import log_loss\n",
    "from catboost import CatBoostClassifier"
   ]
  },
  {
   "cell_type": "code",
   "execution_count": null,
   "metadata": {},
   "outputs": [],
   "source": [
    "model = CatBoostClassifier(iterations=100,\n",
    "                           learning_rate=0.3,\n",
    "                           depth=10)\n",
    "\n",
    "model = model.fit(train, Y_train, categorical_inds, eval_set=(val, Y_val),\n",
    "                  verbose=False)"
   ]
  },
  {
   "cell_type": "code",
   "execution_count": null,
   "metadata": {},
   "outputs": [],
   "source": [
    "# Calculate performance\n",
    "p = np.array([np.sum(Y_train == i) for i in np.unique(Y_train)]) / len(Y_train)\n",
    "base_ce = log_loss(Y_test, p[np.newaxis].repeat(len(test), 0))\n",
    "train_ce = log_loss(Y_train, model.predict_proba(train))\n",
    "val_ce = log_loss(Y_val, model.predict_proba(val))\n",
    "test_ce = log_loss(Y_test, model.predict_proba(test))\n",
    "\n",
    "# Plot\n",
    "plt.figure(figsize=(9, 6))\n",
    "plt.bar(np.arange(4), [base_ce, train_ce, val_ce, test_ce],\n",
    "        color=['tab:blue', 'tab:orange', 'tab:purple', 'tab:green'])\n",
    "\n",
    "ax = plt.gca()\n",
    "for i, ce in enumerate([base_ce, train_ce, val_ce, test_ce]):\n",
    "    ax.text(i - 0.17, ce + 0.005, '{:.3f}'.format(ce), fontsize=16)\n",
    "    \n",
    "plt.ylim(0, 0.4)\n",
    "\n",
    "plt.xticks(np.arange(4), ['Base Rate', 'Train', 'Val', 'Test'])\n",
    "plt.tick_params(labelsize=16)\n",
    "plt.ylabel('Cross Entropy Loss', fontsize=18)\n",
    "plt.title('Performance comparison', fontsize=20)\n",
    "\n",
    "plt.tight_layout()\n",
    "plt.show()"
   ]
  },
  {
   "cell_type": "code",
   "execution_count": null,
   "metadata": {},
   "outputs": [],
   "source": [
    "# Setup and calculate\n",
    "imputer = sage.MarginalImputer(model, train[:512])\n",
    "estimator = sage.KernelEstimator(imputer, 'cross entropy')\n",
    "sage_train = estimator(train, Y_train, thresh=0.025)\n",
    "sage_val = estimator(val, Y_val, thresh=0.025)\n",
    "sage_test = estimator(test, Y_test, thresh=0.025)"
   ]
  },
  {
   "cell_type": "code",
   "execution_count": null,
   "metadata": {},
   "outputs": [],
   "source": [
    "sage.comparison_plot((sage_train, sage_val, sage_test),\n",
    "                     ('Train', 'Val', 'Test'),\n",
    "                     feature_names,\n",
    "                     colors=('tab:orange', 'tab:purple', 'tab:green'),\n",
    "                     title='Train vs. Val vs. Test')"
   ]
  },
  {
   "cell_type": "code",
   "execution_count": null,
   "metadata": {},
   "outputs": [],
   "source": [
    "# Convert duration to seconds\n",
    "test_seconds = test.copy()\n",
    "duration_index = feature_names.index('Duration')\n",
    "test_seconds[:, duration_index] = test_seconds[:, duration_index] * 60\n",
    "\n",
    "# Convert duration to hours\n",
    "test_hours = test.copy()\n",
    "test_hours[:, duration_index] = test_hours[:, duration_index] / 60\n",
    "\n",
    "# Shift months by one\n",
    "test_month = test.copy()\n",
    "month_index = feature_names.index('Month')\n",
    "months = ['jan', 'feb', 'mar', 'apr', 'may', 'jun',\n",
    "          'jul', 'aug', 'sep', 'oct', 'nov', 'dec']\n",
    "test_month[:, month_index] = list(\n",
    "    map(lambda x: months[(months.index(x) + 1) % 12],\n",
    "        test_month[:, month_index]))"
   ]
  },
  {
   "cell_type": "code",
   "execution_count": null,
   "metadata": {},
   "outputs": [],
   "source": [
    "# Calculate performance\n",
    "p = np.array([np.sum(Y_train == i) for i in np.unique(Y_train)]) / len(Y_train)\n",
    "base_ce = log_loss(Y_test, p[np.newaxis].repeat(len(test), 0))\n",
    "val_ce = log_loss(Y_val, model.predict_proba(val))\n",
    "seconds_ce = log_loss(Y_test, model.predict_proba(test_seconds))\n",
    "hours_ce = log_loss(Y_test, model.predict_proba(test_hours))\n",
    "month_ce = log_loss(Y_test, model.predict_proba(test_month))\n",
    "\n",
    "# Plot\n",
    "plt.figure(figsize=(9, 7))\n",
    "plt.bar(np.arange(5), [base_ce, val_ce, seconds_ce, hours_ce, month_ce],\n",
    "        color=['tab:blue', 'tab:purple', 'crimson', 'firebrick', 'indianred'])\n",
    "\n",
    "ax = plt.gca()\n",
    "for i, ce in enumerate([base_ce, val_ce, seconds_ce, hours_ce, month_ce]):\n",
    "    ax.text(i - 0.17, ce + 0.007, '{:.3f}'.format(ce), fontsize=16)\n",
    "    \n",
    "plt.ylim(0, 0.94)\n",
    "\n",
    "plt.xticks(np.arange(5),\n",
    "           ['Base Rate', 'Validation', r'Duration $\\rightarrow$ Secs',\n",
    "            r'Duration $\\rightarrow$ Hours', r'Month $\\rightarrow$ + 1'],\n",
    "           rotation=45, rotation_mode='anchor', ha='right')\n",
    "plt.tick_params(labelsize=16)\n",
    "plt.ylabel('Cross Entropy Loss', fontsize=18)\n",
    "plt.title('Performance comparison', fontsize=20)\n",
    "\n",
    "plt.tight_layout()\n",
    "plt.show()"
   ]
  },
  {
   "cell_type": "code",
   "execution_count": null,
   "metadata": {},
   "outputs": [],
   "source": [
    "# Calculate feature importance for perturbed data\n",
    "imputer = sage.MarginalImputer(model, val[:512])\n",
    "estimator = sage.KernelEstimator(imputer, 'cross entropy')\n",
    "sage_seconds = estimator(test_seconds, Y_test, thresh=0.025)\n",
    "sage_hours = estimator(test_hours, Y_test, thresh=0.025)\n",
    "sage_month = estimator(test_month, Y_test, thresh=0.025)"
   ]
  },
  {
   "cell_type": "code",
   "execution_count": null,
   "metadata": {},
   "outputs": [],
   "source": [
    "sage_val.comparison(sage_seconds, ('Validation', r'Duration $\\rightarrow$ Seconds'),\n",
    "                    feature_names, colors=('tab:purple', 'crimson'),\n",
    "                    title='Validation vs. Perturbed Duration')"
   ]
  },
  {
   "cell_type": "code",
   "execution_count": null,
   "metadata": {},
   "outputs": [],
   "source": [
    "sage_val.comparison(sage_hours, ('Validation', r'Duration $\\rightarrow$ Hours'),\n",
    "                    feature_names, colors=('tab:purple', 'firebrick'),\n",
    "                    title='Validation vs. Perturbed Duration')"
   ]
  },
  {
   "cell_type": "code",
   "execution_count": null,
   "metadata": {},
   "outputs": [],
   "source": [
    "sage_val.comparison(sage_month, ('Validation', r'Month $\\rightarrow$ + 1'),\n",
    "                    feature_names, colors=('tab:purple', 'indianred'),\n",
    "                    title='Validation vs. Perturbed Month')"
   ]
  }
 ],
 "metadata": {
  "kernelspec": {
   "display_name": "Python 3",
   "language": "python",
   "name": "python3"
  },
  "language_info": {
   "codemirror_mode": {
    "name": "ipython",
    "version": 3
   },
   "file_extension": ".py",
   "mimetype": "text/x-python",
   "name": "python",
   "nbconvert_exporter": "python",
   "pygments_lexer": "ipython3",
   "version": "3.7.3"
  }
 },
 "nbformat": 4,
 "nbformat_minor": 2
}
